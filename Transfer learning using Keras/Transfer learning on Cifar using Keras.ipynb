{
 "cells": [
  {
   "cell_type": "code",
   "execution_count": 1,
   "metadata": {},
   "outputs": [
    {
     "name": "stderr",
     "output_type": "stream",
     "text": [
      "/usr/local/lib/python2.7/dist-packages/h5py/__init__.py:36: FutureWarning: Conversion of the second argument of issubdtype from `float` to `np.floating` is deprecated. In future, it will be treated as `np.float64 == np.dtype(float).type`.\n",
      "  from ._conv import register_converters as _register_converters\n",
      "Using TensorFlow backend.\n"
     ]
    }
   ],
   "source": [
    "import keras\n",
    "import numpy as np\n",
    "from  keras.utils import np_utils\n",
    "import keras.utils as utils\n",
    "from keras import layers\n",
    "from keras.layers import Input, Dense, Activation, ZeroPadding2D, BatchNormalization, Flatten, Conv2D\n",
    "from keras.layers import AveragePooling2D, MaxPooling2D, Dropout, GlobalMaxPooling2D, GlobalAveragePooling2D\n",
    "from keras.datasets import cifar10\n",
    "from keras.models import Model\n",
    "from keras import applications\n",
    "from keras.preprocessing.image import ImageDataGenerator\n",
    "from keras.applications import VGG16\n",
    "from keras.applications.vgg16 import preprocess_input\n",
    "from scipy import misc\n",
    "import scipy"
   ]
  },
  {
   "cell_type": "markdown",
   "metadata": {},
   "source": [
    "Bottleneck features can be downloaded from https://d17h27t6h515a5.cloudfront.net/topher/2016/November/5834b432_vgg-100/vgg-100.zip . I you have python 2 installed, unpickle them like this(remeber using Python 3)\n",
    "\n",
    "import pickle\n",
    "with open(\"vgg_cifar10_bottleneck_features_validation.p\", \"rb\") as f:\n",
    "    w = pickle.load(f)\n",
    "pickle.dump(w, open(\"cifarval.pkl\",\"wb\"), protocol=2)\n",
    "with open(\"vgg_cifar10_100_bottleneck_features_train.p\", \"rb\") as f:\n",
    "    v = pickle.load(f)\n",
    "\n",
    "pickle.dump(v, open(\"cifartrain.pkl\",\"wb\"), protocol=2)\n"
   ]
  },
  {
   "cell_type": "markdown",
   "metadata": {},
   "source": [
    "### Loading bottkeneck features"
   ]
  },
  {
   "cell_type": "code",
   "execution_count": 37,
   "metadata": {},
   "outputs": [],
   "source": [
    "import pickle\n",
    "def load_bottleneck(trainfile,valfile):\n",
    "    f = open(trainfile, 'r')   # 'r' for reading; can be omitted\n",
    "    mydicttrain = pickle.load(f)         # load file content as mydict\n",
    "    f.close()\n",
    "    g=open(valfile,'r')\n",
    "    mydictval=pickle.load(g)\n",
    "    g.close\n",
    "    x_train=mydicttrain['features']\n",
    "    y_train=mydicttrain['labels']\n",
    "    x_val=mydictval['features']\n",
    "    y_val=mydictval['labels']\n",
    "    return x_val,y_val,x_train,y_train\n"
   ]
  },
  {
   "cell_type": "code",
   "execution_count": 41,
   "metadata": {},
   "outputs": [
    {
     "name": "stdout",
     "output_type": "stream",
     "text": [
      "x_train and x_val shape are respectively (10000, 1, 1, 512)and (1000, 1, 1, 512)\n",
      "y_train and y_val shape are respectively (10000, 1)and (1000, 1)\n"
     ]
    }
   ],
   "source": [
    "x_train,y_train,x_val,y_val=load_bottleneck('cifartrain.pkl','cifarval.pkl')\n",
    "print \"x_train and x_val shape are respectively \"+str(x_train.shape)+\"and \"+str(x_val.shape)\n",
    "print \"y_train and y_val shape are respectively \"+str(y_train.shape)+\"and \"+str(y_val.shape)"
   ]
  },
  {
   "cell_type": "code",
   "execution_count": 48,
   "metadata": {},
   "outputs": [
    {
     "name": "stdout",
     "output_type": "stream",
     "text": [
      "Unique classes are 10\n"
     ]
    }
   ],
   "source": [
    "num_classes=len(np.unique(y_train))\n",
    "print \"Unique classes are \"+ str(num_classes)"
   ]
  },
  {
   "cell_type": "code",
   "execution_count": 65,
   "metadata": {},
   "outputs": [
    {
     "name": "stdout",
     "output_type": "stream",
     "text": [
      "Train on 8000 samples, validate on 2000 samples\n",
      "Epoch 1/50\n",
      " - 1s - loss: 1.6432 - acc: 0.5199 - val_loss: 0.9230 - val_acc: 0.7010\n",
      "\n",
      "Epoch 00001: val_loss improved from inf to 0.92304, saving model to modelwithtransfer.best.hdf5\n",
      "Epoch 2/50\n",
      " - 1s - loss: 0.7382 - acc: 0.7525 - val_loss: 0.7277 - val_acc: 0.7625\n",
      "\n",
      "Epoch 00002: val_loss improved from 0.92304 to 0.72773, saving model to modelwithtransfer.best.hdf5\n",
      "Epoch 3/50\n",
      " - 1s - loss: 0.5791 - acc: 0.8039 - val_loss: 0.6270 - val_acc: 0.7915\n",
      "\n",
      "Epoch 00003: val_loss improved from 0.72773 to 0.62701, saving model to modelwithtransfer.best.hdf5\n",
      "Epoch 4/50\n",
      " - 1s - loss: 0.4964 - acc: 0.8345 - val_loss: 0.5919 - val_acc: 0.8020\n",
      "\n",
      "Epoch 00004: val_loss improved from 0.62701 to 0.59185, saving model to modelwithtransfer.best.hdf5\n",
      "Epoch 5/50\n",
      " - 1s - loss: 0.4414 - acc: 0.8506 - val_loss: 0.5694 - val_acc: 0.8085\n",
      "\n",
      "Epoch 00005: val_loss improved from 0.59185 to 0.56944, saving model to modelwithtransfer.best.hdf5\n",
      "Epoch 6/50\n",
      " - 1s - loss: 0.4006 - acc: 0.8650 - val_loss: 0.5477 - val_acc: 0.8135\n",
      "\n",
      "Epoch 00006: val_loss improved from 0.56944 to 0.54774, saving model to modelwithtransfer.best.hdf5\n",
      "Epoch 7/50\n",
      " - 1s - loss: 0.3700 - acc: 0.8741 - val_loss: 0.5362 - val_acc: 0.8225\n",
      "\n",
      "Epoch 00007: val_loss improved from 0.54774 to 0.53619, saving model to modelwithtransfer.best.hdf5\n",
      "Epoch 8/50\n",
      " - 1s - loss: 0.3514 - acc: 0.8770 - val_loss: 0.5378 - val_acc: 0.8255\n",
      "\n",
      "Epoch 00008: val_loss did not improve from 0.53619\n",
      "Epoch 9/50\n",
      " - 1s - loss: 0.3249 - acc: 0.8904 - val_loss: 0.5489 - val_acc: 0.8220\n",
      "\n",
      "Epoch 00009: val_loss did not improve from 0.53619\n",
      "Epoch 10/50\n",
      " - 1s - loss: 0.3088 - acc: 0.8991 - val_loss: 0.5405 - val_acc: 0.8250\n",
      "\n",
      "Epoch 00010: val_loss did not improve from 0.53619\n",
      "Epoch 11/50\n",
      " - 1s - loss: 0.3013 - acc: 0.8972 - val_loss: 0.5396 - val_acc: 0.8250\n",
      "\n",
      "Epoch 00011: val_loss did not improve from 0.53619\n",
      "Epoch 12/50\n",
      " - 1s - loss: 0.2805 - acc: 0.9062 - val_loss: 0.5260 - val_acc: 0.8300\n",
      "\n",
      "Epoch 00012: val_loss improved from 0.53619 to 0.52603, saving model to modelwithtransfer.best.hdf5\n",
      "Epoch 13/50\n",
      " - 1s - loss: 0.2754 - acc: 0.9059 - val_loss: 0.5421 - val_acc: 0.8325\n",
      "\n",
      "Epoch 00013: val_loss did not improve from 0.52603\n",
      "Epoch 14/50\n",
      " - 1s - loss: 0.2667 - acc: 0.9112 - val_loss: 0.5391 - val_acc: 0.8265\n",
      "\n",
      "Epoch 00014: val_loss did not improve from 0.52603\n",
      "Epoch 15/50\n",
      " - 0s - loss: 0.2575 - acc: 0.9121 - val_loss: 0.5549 - val_acc: 0.8240\n",
      "\n",
      "Epoch 00015: val_loss did not improve from 0.52603\n",
      "Epoch 16/50\n",
      " - 0s - loss: 0.2480 - acc: 0.9190 - val_loss: 0.5547 - val_acc: 0.8280\n",
      "\n",
      "Epoch 00016: val_loss did not improve from 0.52603\n",
      "Epoch 17/50\n",
      " - 0s - loss: 0.2413 - acc: 0.9180 - val_loss: 0.5525 - val_acc: 0.8325\n",
      "\n",
      "Epoch 00017: val_loss did not improve from 0.52603\n",
      "Epoch 18/50\n",
      " - 0s - loss: 0.2338 - acc: 0.9245 - val_loss: 0.5486 - val_acc: 0.8265\n",
      "\n",
      "Epoch 00018: val_loss did not improve from 0.52603\n",
      "Epoch 19/50\n",
      " - 0s - loss: 0.2248 - acc: 0.9250 - val_loss: 0.5611 - val_acc: 0.8295\n",
      "\n",
      "Epoch 00019: val_loss did not improve from 0.52603\n",
      "Epoch 20/50\n",
      " - 0s - loss: 0.2211 - acc: 0.9262 - val_loss: 0.5674 - val_acc: 0.8310\n",
      "\n",
      "Epoch 00020: val_loss did not improve from 0.52603\n",
      "Epoch 21/50\n",
      " - 0s - loss: 0.2164 - acc: 0.9312 - val_loss: 0.5697 - val_acc: 0.8240\n",
      "\n",
      "Epoch 00021: val_loss did not improve from 0.52603\n",
      "Epoch 22/50\n",
      " - 0s - loss: 0.2057 - acc: 0.9319 - val_loss: 0.5678 - val_acc: 0.8255\n",
      "\n",
      "Epoch 00022: val_loss did not improve from 0.52603\n",
      "Epoch 23/50\n",
      " - 0s - loss: 0.2041 - acc: 0.9372 - val_loss: 0.5726 - val_acc: 0.8265\n",
      "\n",
      "Epoch 00023: val_loss did not improve from 0.52603\n",
      "Epoch 24/50\n",
      " - 0s - loss: 0.2001 - acc: 0.9367 - val_loss: 0.5765 - val_acc: 0.8285\n",
      "\n",
      "Epoch 00024: val_loss did not improve from 0.52603\n",
      "Epoch 25/50\n",
      " - 0s - loss: 0.1947 - acc: 0.9385 - val_loss: 0.5784 - val_acc: 0.8215\n",
      "\n",
      "Epoch 00025: val_loss did not improve from 0.52603\n",
      "Epoch 26/50\n",
      " - 1s - loss: 0.1889 - acc: 0.9425 - val_loss: 0.5839 - val_acc: 0.8250\n",
      "\n",
      "Epoch 00026: val_loss did not improve from 0.52603\n",
      "Epoch 27/50\n",
      " - 1s - loss: 0.1908 - acc: 0.9389 - val_loss: 0.5960 - val_acc: 0.8220\n",
      "\n",
      "Epoch 00027: val_loss did not improve from 0.52603\n",
      "Epoch 28/50\n",
      " - 0s - loss: 0.1844 - acc: 0.9424 - val_loss: 0.6242 - val_acc: 0.8175\n",
      "\n",
      "Epoch 00028: val_loss did not improve from 0.52603\n",
      "Epoch 29/50\n",
      " - 1s - loss: 0.1846 - acc: 0.9414 - val_loss: 0.6286 - val_acc: 0.8205\n",
      "\n",
      "Epoch 00029: val_loss did not improve from 0.52603\n",
      "Epoch 30/50\n",
      " - 1s - loss: 0.1796 - acc: 0.9437 - val_loss: 0.6101 - val_acc: 0.8255\n",
      "\n",
      "Epoch 00030: val_loss did not improve from 0.52603\n",
      "Epoch 31/50\n",
      " - 1s - loss: 0.1754 - acc: 0.9434 - val_loss: 0.6325 - val_acc: 0.8205\n",
      "\n",
      "Epoch 00031: val_loss did not improve from 0.52603\n",
      "Epoch 32/50\n",
      " - 1s - loss: 0.1731 - acc: 0.9469 - val_loss: 0.6240 - val_acc: 0.8215\n",
      "\n",
      "Epoch 00032: val_loss did not improve from 0.52603\n",
      "Epoch 33/50\n",
      " - 1s - loss: 0.1668 - acc: 0.9496 - val_loss: 0.6327 - val_acc: 0.8285\n",
      "\n",
      "Epoch 00033: val_loss did not improve from 0.52603\n",
      "Epoch 34/50\n",
      " - 1s - loss: 0.1667 - acc: 0.9501 - val_loss: 0.6311 - val_acc: 0.8215\n",
      "\n",
      "Epoch 00034: val_loss did not improve from 0.52603\n",
      "Epoch 35/50\n",
      " - 1s - loss: 0.1628 - acc: 0.9495 - val_loss: 0.6458 - val_acc: 0.8240\n",
      "\n",
      "Epoch 00035: val_loss did not improve from 0.52603\n",
      "Epoch 36/50\n",
      " - 1s - loss: 0.1607 - acc: 0.9525 - val_loss: 0.6525 - val_acc: 0.8205\n",
      "\n",
      "Epoch 00036: val_loss did not improve from 0.52603\n",
      "Epoch 37/50\n",
      " - 1s - loss: 0.1577 - acc: 0.9527 - val_loss: 0.6515 - val_acc: 0.8215\n",
      "\n",
      "Epoch 00037: val_loss did not improve from 0.52603\n",
      "Epoch 38/50\n",
      " - 1s - loss: 0.1550 - acc: 0.9535 - val_loss: 0.6660 - val_acc: 0.8235\n",
      "\n",
      "Epoch 00038: val_loss did not improve from 0.52603\n",
      "Epoch 39/50\n",
      " - 1s - loss: 0.1546 - acc: 0.9535 - val_loss: 0.6617 - val_acc: 0.8185\n",
      "\n",
      "Epoch 00039: val_loss did not improve from 0.52603\n",
      "Epoch 40/50\n",
      " - 1s - loss: 0.1522 - acc: 0.9540 - val_loss: 0.6799 - val_acc: 0.8195\n",
      "\n",
      "Epoch 00040: val_loss did not improve from 0.52603\n",
      "Epoch 41/50\n",
      " - 1s - loss: 0.1534 - acc: 0.9543 - val_loss: 0.6769 - val_acc: 0.8195\n",
      "\n",
      "Epoch 00041: val_loss did not improve from 0.52603\n",
      "Epoch 42/50\n",
      " - 1s - loss: 0.1487 - acc: 0.9561 - val_loss: 0.6974 - val_acc: 0.8180\n",
      "\n",
      "Epoch 00042: val_loss did not improve from 0.52603\n",
      "Epoch 43/50\n",
      " - 1s - loss: 0.1469 - acc: 0.9575 - val_loss: 0.7012 - val_acc: 0.8165\n",
      "\n",
      "Epoch 00043: val_loss did not improve from 0.52603\n",
      "Epoch 44/50\n",
      " - 1s - loss: 0.1470 - acc: 0.9558 - val_loss: 0.7097 - val_acc: 0.8115\n",
      "\n",
      "Epoch 00044: val_loss did not improve from 0.52603\n",
      "Epoch 45/50\n",
      " - 1s - loss: 0.1437 - acc: 0.9580 - val_loss: 0.6951 - val_acc: 0.8205\n",
      "\n",
      "Epoch 00045: val_loss did not improve from 0.52603\n",
      "Epoch 46/50\n",
      " - 1s - loss: 0.1447 - acc: 0.9559 - val_loss: 0.7058 - val_acc: 0.8205\n",
      "\n",
      "Epoch 00046: val_loss did not improve from 0.52603\n",
      "Epoch 47/50\n",
      " - 1s - loss: 0.1419 - acc: 0.9577 - val_loss: 0.7115 - val_acc: 0.8155\n",
      "\n",
      "Epoch 00047: val_loss did not improve from 0.52603\n",
      "Epoch 48/50\n",
      " - 1s - loss: 0.1362 - acc: 0.9596 - val_loss: 0.7204 - val_acc: 0.8155\n",
      "\n",
      "Epoch 00048: val_loss did not improve from 0.52603\n",
      "Epoch 49/50\n",
      " - 1s - loss: 0.1334 - acc: 0.9630 - val_loss: 0.7178 - val_acc: 0.8205\n",
      "\n",
      "Epoch 00049: val_loss did not improve from 0.52603\n",
      "Epoch 50/50\n",
      " - 1s - loss: 0.1337 - acc: 0.9604 - val_loss: 0.7195 - val_acc: 0.8235\n",
      "\n",
      "Epoch 00050: val_loss did not improve from 0.52603\n"
     ]
    },
    {
     "data": {
      "text/plain": [
       "<keras.callbacks.History at 0x7f118c3e9b10>"
      ]
     },
     "execution_count": 65,
     "metadata": {},
     "output_type": "execute_result"
    }
   ],
   "source": [
    "from keras.callbacks import ModelCheckpoint\n",
    "input_shape = x_train.shape[1:]\n",
    "inp = Input(shape=input_shape)\n",
    "x = Flatten()(inp)\n",
    "x = Dense(num_classes, activation='softmax')(x)\n",
    "model = Model(inp, x)\n",
    "model.compile(optimizer='adam', loss='sparse_categorical_crossentropy', \n",
    "                  metrics=['accuracy'])\n",
    "\n",
    "    # train model\n",
    "checkpointer = ModelCheckpoint(filepath='modelwithtransfer.best.hdf5', \n",
    "                               verbose=1, save_best_only=True)\n",
    "# model.fit(features, y_train, batch_size=50, epochs=50,\n",
    "#           validation_split=0.2, callbacks=[checkpointer],\n",
    "#           verbose=2, shuffle=True)\n",
    "model.fit(x_train,y_train,batch_size=50,epochs=50,validation_split=0.2,callbacks=[checkpointer],verbose=2,shuffle=True)"
   ]
  },
  {
   "cell_type": "code",
   "execution_count": 67,
   "metadata": {},
   "outputs": [
    {
     "name": "stdout",
     "output_type": "stream",
     "text": [
      "Test accuracy: 84.6000%\n"
     ]
    }
   ],
   "source": [
    "model.load_weights('modelwithtransfer.best.hdf5')\n",
    "\n",
    "# evaluate test accuracy\n",
    "score = model.evaluate(x_val, y_val, verbose=0)\n",
    "accuracy = 100*score[1]\n",
    "\n",
    "# print test accuracy\n",
    "print('Test accuracy: %.4f%%' % accuracy)"
   ]
  }
 ],
 "metadata": {
  "kernelspec": {
   "display_name": "Python 2",
   "language": "python",
   "name": "python2"
  },
  "language_info": {
   "codemirror_mode": {
    "name": "ipython",
    "version": 2
   },
   "file_extension": ".py",
   "mimetype": "text/x-python",
   "name": "python",
   "nbconvert_exporter": "python",
   "pygments_lexer": "ipython2",
   "version": "2.7.12"
  }
 },
 "nbformat": 4,
 "nbformat_minor": 2
}
